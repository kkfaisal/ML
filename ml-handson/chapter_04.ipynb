{
 "cells": [
  {
   "cell_type": "markdown",
   "metadata": {},
   "source": [
    "# Linear regression using the Normal Equation"
   ]
  },
  {
   "cell_type": "markdown",
   "metadata": {},
   "source": [
    "### Random Numbers in numpy (random.rand ,random.randn) "
   ]
  },
  {
   "cell_type": "code",
   "execution_count": 2,
   "metadata": {
    "collapsed": false
   },
   "outputs": [],
   "source": [
    "import numpy as np\n",
    "# np.random.rand?\n",
    "# Random values in a given shape.\n",
    "# Create an array of the given shape and populate it with\n",
    "# random samples from a uniform distribution\n",
    "# over ``[0, 1)``.\n",
    "\n",
    "X=3*np.random.rand(1,100)"
   ]
  },
  {
   "cell_type": "code",
   "execution_count": 67,
   "metadata": {
    "collapsed": false
   },
   "outputs": [
    {
     "name": "stdout",
     "output_type": "stream",
     "text": [
      "0.0325844130365 0.993282378151\n"
     ]
    },
    {
     "data": {
      "image/png": "[encoded data removed]",
      "text/plain": [
       "<matplotlib.figure.Figure at 0x1114f2cf8>"
      ]
     },
     "metadata": {},
     "output_type": "display_data"
    },
    {
     "data": {
      "image/png": "[encoded data removed]",
      "text/plain": [
       "<matplotlib.figure.Figure at 0x111410828>"
      ]
     },
     "metadata": {},
     "output_type": "display_data"
    }
   ],
   "source": [
    "np.random.randn(10)\n",
    "#Return a sample (or samples) from the \"standard normal\" distribution.\n",
    "import matplotlib.pyplot as plt\n",
    "y=np.sort(np.random.randn(10000))\n",
    "x = np.arange(len(y))\n",
    "print(np.mean(y),np.std(y),)\n",
    "plt.plot(x,y)\n",
    "plt.show()\n",
    "plt.hist(y, 30,  facecolor='c', alpha=1)\n",
    "plt.show()"
   ]
  },
  {
   "cell_type": "markdown",
   "metadata": {},
   "source": [
    "# L1 and L2 Norm of a Vector "
   ]
  },
  {
   "cell_type": "markdown",
   "metadata": {},
   "source": [
    "L1-norm is also known as least absolute deviations (LAD), least absolute errors (LAE). It is basically minimizing the sum of the absolute differences (S) between the target value (Yi) and the estimated values (f(xi)):\n",
    "![t](l1-norm-formula.png)\n",
    "\n",
    "L2-norm is also known as least squares. It is basically minimizing the sum of the square of the differences (S) between the target value (Yi) and the estimated values (f(xi):\n",
    "![t](l2-norm-formula.png)"
   ]
  },
  {
   "cell_type": "code",
   "execution_count": null,
   "metadata": {
    "collapsed": true
   },
   "outputs": [],
   "source": []
  },
  {
   "cell_type": "code",
   "execution_count": null,
   "metadata": {
    "collapsed": true
   },
   "outputs": [],
   "source": []
  },
  {
   "cell_type": "code",
   "execution_count": null,
   "metadata": {
    "collapsed": true
   },
   "outputs": [],
   "source": []
  },
  {
   "cell_type": "markdown",
   "metadata": {},
   "source": [
    "# Linear regression "
   ]
  },
  {
   "cell_type": "markdown",
   "metadata": {},
   "source": [
    "![Linear Regression model prediction (vectorized form)](eq_12.png)"
   ]
  },
  {
   "cell_type": "markdown",
   "metadata": {},
   "source": [
    "### MSE cost function for a Linear Regression model "
   ]
  },
  {
   "cell_type": "markdown",
   "metadata": {},
   "source": [
    "![title](eq_20.png)"
   ]
  },
  {
   "cell_type": "markdown",
   "metadata": {},
   "source": [
    "# Normal Eqn "
   ]
  },
  {
   "cell_type": "markdown",
   "metadata": {},
   "source": [
    "![title](eq_14.png)"
   ]
  },
  {
   "cell_type": "code",
   "execution_count": 18,
   "metadata": {
    "collapsed": false
   },
   "outputs": [],
   "source": [
    "import numpy as np\n",
    "X1=np.random.rand(100,1)\n",
    "# X0 = np.random.rand(100,1)\n",
    "# X_b = np.c_[X0,X1]"
   ]
  },
  {
   "cell_type": "code",
   "execution_count": 22,
   "metadata": {
    "collapsed": false
   },
   "outputs": [],
   "source": [
    "y = 4+ 3*X1 + np.random.randn(100, 1)\n",
    "X_b = np.c_[np.ones((100,1)),X1]"
   ]
  },
  {
   "cell_type": "code",
   "execution_count": 23,
   "metadata": {
    "collapsed": false
   },
   "outputs": [
    {
     "data": {
      "text/plain": [
       "(100, 1)"
      ]
     },
     "execution_count": 23,
     "metadata": {},
     "output_type": "execute_result"
    }
   ],
   "source": [
    "y.shape"
   ]
  },
  {
   "cell_type": "code",
   "execution_count": 30,
   "metadata": {
    "collapsed": false
   },
   "outputs": [
    {
     "name": "stdout",
     "output_type": "stream",
     "text": [
      "[[ 4.26156229  2.80774701]]\n"
     ]
    }
   ],
   "source": [
    "theta_best = np.linalg.inv(X_b.T.dot(X_b)).dot(X_b.T).dot(y) #Normal equation\n",
    "print(theta_best.T)"
   ]
  },
  {
   "cell_type": "code",
   "execution_count": 25,
   "metadata": {
    "collapsed": false
   },
   "outputs": [
    {
     "data": {
      "text/plain": [
       "array([[ 0.23108144,  0.22923112,  1.49113868,  2.25769227,  2.52463905],\n",
       "       [ 0.57349135,  0.70555114,  0.36914787, -1.3983357 ,  0.06756725]])"
      ]
     },
     "execution_count": 25,
     "metadata": {},
     "output_type": "execute_result"
    }
   ],
   "source": [
    " np.random.randn(2,5)"
   ]
  },
  {
   "cell_type": "code",
   "execution_count": 36,
   "metadata": {
    "collapsed": false
   },
   "outputs": [
    {
     "data": {
      "image/png": "[encoded data removed]",
      "text/plain": [
       "<matplotlib.figure.Figure at 0x11a428630>"
      ]
     },
     "metadata": {},
     "output_type": "display_data"
    },
    {
     "name": "stdout",
     "output_type": "stream",
     "text": [
      "[[ 7.0693093]]\n"
     ]
    }
   ],
   "source": [
    "import matplotlib.pyplot as plt\n",
    "y_predict = X_b.dot(theta_best)\n",
    "plt.plot(X1,y_predict)\n",
    "plt.show()\n",
    "\n",
    "y_7 = np.array([[1,1]]).dot(theta_best)\n",
    "print(y_7)"
   ]
  },
  {
   "cell_type": "code",
   "execution_count": 43,
   "metadata": {
    "collapsed": false
   },
   "outputs": [
    {
     "data": {
      "image/png": "[encoded data removed]",
      "text/plain": [
       "<matplotlib.figure.Figure at 0x11af5f160>"
      ]
     },
     "metadata": {},
     "output_type": "display_data"
    }
   ],
   "source": [
    "plt.plot(X1,y,'r.')\n",
    "plt.plot(X1,y_predict)\n",
    "plt.show()"
   ]
  },
  {
   "cell_type": "code",
   "execution_count": 44,
   "metadata": {
    "collapsed": false
   },
   "outputs": [
    {
     "data": {
      "text/plain": [
       "array([[ 0.06791055,  0.41514154],\n",
       "       [ 0.67113714,  0.22043837]])"
      ]
     },
     "execution_count": 44,
     "metadata": {},
     "output_type": "execute_result"
    }
   ],
   "source": [
    "X_new = np.c_[np.random.rand(2,1),np.random.rand(2,1)]\n",
    "X_new"
   ]
  },
  {
   "cell_type": "code",
   "execution_count": 45,
   "metadata": {
    "collapsed": false
   },
   "outputs": [
    {
     "data": {
      "text/plain": [
       "array([[ 1.45501745],\n",
       "       [ 3.4790279 ]])"
      ]
     },
     "execution_count": 45,
     "metadata": {},
     "output_type": "execute_result"
    }
   ],
   "source": [
    "y_predict = X_new.dot(theta_best)\n",
    "y_predict"
   ]
  },
  {
   "cell_type": "code",
   "execution_count": 46,
   "metadata": {
    "collapsed": false
   },
   "outputs": [
    {
     "data": {
      "text/plain": [
       "array([[ 0.        ,  2.80774701]])"
      ]
     },
     "execution_count": 46,
     "metadata": {},
     "output_type": "execute_result"
    }
   ],
   "source": [
    "from sklearn.linear_model import LinearRegression\n",
    "lin_reg = LinearRegression()\n",
    "lin_reg.fit(X_b,y)\n",
    "lin_reg.coef_"
   ]
  },
  {
   "cell_type": "markdown",
   "metadata": {},
   "source": [
    "# Linear regression using batch gradient descent"
   ]
  },
  {
   "cell_type": "markdown",
   "metadata": {},
   "source": [
    "## Gradient vector of the cost function"
   ]
  },
  {
   "cell_type": "markdown",
   "metadata": {
    "collapsed": true
   },
   "source": [
    "![title](eq_21.png)"
   ]
  },
  {
   "cell_type": "markdown",
   "metadata": {},
   "source": [
    "**Notice that this formula involves calculations over the full training set X, at each Gradient Descent step! This is why the algorithm is called Batch Gradient Descent: it uses the whole batch of training data at every step.**"
   ]
  },
  {
   "cell_type": "markdown",
   "metadata": {},
   "source": [
    "# Gradient Descent step"
   ]
  },
  {
   "cell_type": "markdown",
   "metadata": {},
   "source": [
    "![title](eq_22.png)"
   ]
  },
  {
   "cell_type": "code",
   "execution_count": 47,
   "metadata": {
    "collapsed": false
   },
   "outputs": [
    {
     "name": "stdout",
     "output_type": "stream",
     "text": [
      "1\n",
      "1\n",
      "1\n",
      "1\n"
     ]
    }
   ],
   "source": [
    "i=1\n",
    "for _ in range(4):\n",
    "    print(i)"
   ]
  },
  {
   "cell_type": "code",
   "execution_count": 112,
   "metadata": {
    "collapsed": false
   },
   "outputs": [
    {
     "name": "stdout",
     "output_type": "stream",
     "text": [
      "[[ 4.26156258]\n",
      " [ 2.80774647]]\n"
     ]
    }
   ],
   "source": [
    "theta_path_bgd = []\n",
    "lr_eta=.1\n",
    "theta1 = np.random.randn(2,1) #Coloumn vector\n",
    "m=100\n",
    "itration = 1000\n",
    "plt.plot(X1,y,'r.')\n",
    "for itr in range(itration):\n",
    "    delta_theta=2/m*(X_b.T.dot(X_b.dot(theta1)-y))\n",
    "    theta1 = theta1 - lr_eta*delta_theta\n",
    "    theta_path_bgd.append(theta1)\n",
    "print(theta1)"
   ]
  },
  {
   "cell_type": "markdown",
   "metadata": {},
   "source": [
    "# Plotting graph "
   ]
  },
  {
   "cell_type": "code",
   "execution_count": 69,
   "metadata": {
    "collapsed": false
   },
   "outputs": [
    {
     "data": {
      "image/png": "[encoded data removed]",
      "text/plain": [
       "<matplotlib.figure.Figure at 0x1280fb9b0>"
      ]
     },
     "metadata": {},
     "output_type": "display_data"
    },
    {
     "name": "stdout",
     "output_type": "stream",
     "text": [
      "[[ 4.29884913]\n",
      " [ 2.73821108]]\n"
     ]
    }
   ],
   "source": [
    "lr_eta=.5\n",
    "theta1 = np.random.randn(2,1) #Coloumn vector\n",
    "m=100\n",
    "itration = 30\n",
    "plt.plot(X1,y,'r.')\n",
    "for itr in range(itration):\n",
    "    delta_theta=(2/m)*(X_b.T.dot(X_b.dot(theta1)-y))\n",
    "    theta1 = theta1 - lr_eta*delta_theta\n",
    "    if itr < 2000 :\n",
    "        y_predict = X_b.dot(theta1)\n",
    "        if itr <= 1:\n",
    "            plt.plot(X1,y_predict,'r-')\n",
    "        else:\n",
    "            plt.plot(X1,y_predict)\n",
    "plt.show()\n",
    "print(theta1)"
   ]
  },
  {
   "cell_type": "markdown",
   "metadata": {
    "collapsed": true
   },
   "source": [
    "# Stochastic Gradient Descent "
   ]
  },
  {
   "cell_type": "markdown",
   "metadata": {
    "collapsed": true
   },
   "source": [
    "Stochastic Gradient Descent just picks a random instance in the training set at every step and computes the gradients based only on that single instance. \n",
    "When the cost function is very irregular , this can actually help the algorithm jump out of local minima, so Stochastic Gradient Descent has a better chance of finding the global minimum than Batch Gradient Descent does.\n",
    "\n",
    "Therefore randomness is good to escape from local optima, but bad because it means that the algorithm can never settle at the minimum. One solution to this dilemma is to gradually reduce the learning rate. The steps start out large (which helps make quick progress and escape local minima), then get smaller and smaller, allowing the algorithm to settle at the global minimum. This process is called simulated annealing, because it resembles the process of annealing in metallurgy where molten metal is slowly cooled down. The function that determines the learning rate at each iteration is called the learning schedule"
   ]
  },
  {
   "cell_type": "code",
   "execution_count": 97,
   "metadata": {
    "collapsed": false
   },
   "outputs": [
    {
     "name": "stdout",
     "output_type": "stream",
     "text": [
      "[[ 0.08259162]\n",
      " [ 0.55900856]]\n",
      "[[ 4.17064332]\n",
      " [ 2.88267968]]\n"
     ]
    }
   ],
   "source": [
    "def lerning_schedule(t0,t1,t2):\n",
    "    return t0/(t1+t2)\n",
    "theta_path_sgd = []\n",
    "n_epochs = 50\n",
    "m=100\n",
    "theta = np.random.rand(2,1)\n",
    "print(theta)\n",
    "\n",
    "for ep in range(n_epochs):\n",
    "    for i in range(m):\n",
    "        rand_index = np.random.randint(m)\n",
    "        xi = X_b[rand_index:rand_index+1]\n",
    "        yi= y[rand_index:rand_index+1]\n",
    "        delta_theta=2*(xi.T.dot(xi.dot(theta)-yi))\n",
    "        theta = theta - lerning_schedule(5,50,ep*m+i)*delta_theta\n",
    "        theta_path_sgd.append(theta)\n",
    "print(theta)"
   ]
  },
  {
   "cell_type": "markdown",
   "metadata": {},
   "source": [
    "### Plot"
   ]
  },
  {
   "cell_type": "code",
   "execution_count": 82,
   "metadata": {
    "collapsed": false
   },
   "outputs": [
    {
     "data": {
      "image/png": "[encoded data removed]",
      "text/plain": [
       "<matplotlib.figure.Figure at 0x1286ee5c0>"
      ]
     },
     "metadata": {},
     "output_type": "display_data"
    }
   ],
   "source": [
    "plt.plot(X1,y,'b.')\n",
    "theta = np.random.rand(2,1)\n",
    "for ep in range(n_epochs):\n",
    "    for i in range(m):\n",
    "        rand_index = np.random.randint(m)\n",
    "        xi = X_b[rand_index:rand_index+1]\n",
    "        yi= y[rand_index:rand_index+1]\n",
    "        delta_theta=2*(xi.T.dot(xi.dot(theta)-yi))\n",
    "        theta = theta - lerning_schedule(5,50,ep*m+i)*delta_theta\n",
    "        if ep==0 and i < 20:\n",
    "            y_pred = X_b.dot(theta)\n",
    "            if i==0:\n",
    "                plt.plot(X1,y_pred,'r-')\n",
    "            else:\n",
    "                plt.plot(X1,y_pred)\n",
    "plt.show()"
   ]
  },
  {
   "cell_type": "markdown",
   "metadata": {},
   "source": [
    "## SGD Using scikit"
   ]
  },
  {
   "cell_type": "code",
   "execution_count": 92,
   "metadata": {
    "collapsed": false
   },
   "outputs": [
    {
     "data": {
      "text/plain": [
       "(array([ 2.82110205]), array([ 4.2819303]))"
      ]
     },
     "execution_count": 92,
     "metadata": {},
     "output_type": "execute_result"
    }
   ],
   "source": [
    "from sklearn.linear_model import SGDRegressor\n",
    "sgd_regr = SGDRegressor(n_iter=50, penalty=None, eta0=0.1)\n",
    "sgd_regr.fit(X1,y.ravel())\n",
    "sgd_regr.coef_,sgd_regr.intercept_"
   ]
  },
  {
   "cell_type": "markdown",
   "metadata": {},
   "source": [
    "# Mini-batch Gradient Descent\n",
    "\n",
    "The last Gradient Descent algorithm we will look at is called Mini-batch Gradient Descent. It is quite simple to understand once you know Batch and Stochastic Gradient Descent: at each step, instead of computing the gradients based on the full training set (as in Batch GD) or based on just one instance (as in Stochastic GD), Mini-batch GD computes the gradients on small random sets of instances called mini-batches. The main advantage of Mini-batch GD over Stochastic GD is that you can get a performance boost from hardware optimization of matrix operations, especially when using GPUs."
   ]
  },
  {
   "cell_type": "code",
   "execution_count": 98,
   "metadata": {
    "collapsed": false
   },
   "outputs": [
    {
     "name": "stdout",
     "output_type": "stream",
     "text": [
      "[[ 0.97649931]\n",
      " [ 0.07275814]]\n",
      "[[ 4.34986266]\n",
      " [ 2.85884908]]\n"
     ]
    }
   ],
   "source": [
    "n_epochs = 50\n",
    "m=100\n",
    "theta = np.random.rand(2,1)\n",
    "minibatch=20\n",
    "print(theta)\n",
    "\n",
    "theta_path_mgd = []\n",
    "for ep in range(n_epochs):\n",
    "    shuffled_index=np.random.permutation(m)\n",
    "    shufled_X=X_b[shuffled_index]\n",
    "    shufled_y=y[shuffled_index]\n",
    "    t=0\n",
    "    for i in range(0,m,minibatch):\n",
    "        t+=1\n",
    "        x_mini_batch = shufled_X[i:i+minibatch]\n",
    "        y_mini_batch= shufled_y[i:i+minibatch]\n",
    "        \n",
    "        delta_theta=2*(x_mini_batch.T.dot(x_mini_batch.dot(theta)-y_mini_batch))\n",
    "        theta = theta - lerning_schedule(10,1000,t)*delta_theta\n",
    "        theta_path_mgd.append(theta)\n",
    "print(theta)"
   ]
  },
  {
   "cell_type": "code",
   "execution_count": 95,
   "metadata": {
    "collapsed": false
   },
   "outputs": [
    {
     "data": {
      "text/plain": [
       "array([2, 3, 4])"
      ]
     },
     "execution_count": 95,
     "metadata": {},
     "output_type": "execute_result"
    }
   ],
   "source": [
    "a=np.array([1,2,3,4])\n",
    "a[1:88]"
   ]
  },
  {
   "cell_type": "code",
   "execution_count": 113,
   "metadata": {
    "collapsed": false
   },
   "outputs": [],
   "source": [
    "theta_path_bgd = np.array(theta_path_bgd)\n",
    "theta_path_sgd = np.array(theta_path_sgd)\n",
    "theta_path_mgd = np.array(theta_path_mgd)"
   ]
  },
  {
   "cell_type": "code",
   "execution_count": 119,
   "metadata": {
    "collapsed": false
   },
   "outputs": [
    {
     "data": {
      "image/png": "[encoded data removed]",
      "text/plain": [
       "<matplotlib.figure.Figure at 0x12984e438>"
      ]
     },
     "metadata": {},
     "output_type": "display_data"
    }
   ],
   "source": [
    "plt.plot(theta_path_bgd[:,0],theta_path_bgd[:,1],\"b-o\", linewidth=3, label=\"Batch\")\n",
    "plt.plot(theta_path_sgd[:,0],theta_path_sgd[:,1],\"g-o\", linewidth=3, label=\"Batch\")\n",
    "plt.plot(theta_path_mgd[:,0],theta_path_mgd[:,1],\"r-o\", linewidth=3, label=\"Batch\")\n",
    "\n",
    "# plt.axis([2.5, 4.5, 2.3, 3.9])\n",
    "plt.xlabel(r\"$\\theta_0$\", fontsize=20)\n",
    "plt.ylabel(r\"$\\theta_1$   \", fontsize=20, rotation=0)\n",
    "plt.show()"
   ]
  },
  {
   "cell_type": "markdown",
   "metadata": {},
   "source": [
    "# Polynomial Regression\n"
   ]
  },
  {
   "cell_type": "markdown",
   "metadata": {},
   "source": [
    "What if your data is actually more complex than a simple straight line? Surprisingly, you can actually use a linear model to fit nonlinear data. A simple way to do this is to add powers of each feature as new features, then train a linear model on this extended set of features. This technique is called Polynomial Regression."
   ]
  },
  {
   "cell_type": "code",
   "execution_count": 134,
   "metadata": {
    "collapsed": false
   },
   "outputs": [
    {
     "data": {
      "image/png": "[encoded data removed]",
      "text/plain": [
       "<matplotlib.figure.Figure at 0x12a05f940>"
      ]
     },
     "metadata": {},
     "output_type": "display_data"
    }
   ],
   "source": [
    "m=100\n",
    "X=3+np.random.randn(m,1)*5\n",
    "y= .5 * X**2 +X+ 3+np.random.randn(100,1)\n",
    "plt.plot(X,y,'r.')\n",
    "plt.axis([-10,10,0,20])\n",
    "plt.show()"
   ]
  },
  {
   "cell_type": "code",
   "execution_count": 160,
   "metadata": {
    "collapsed": false
   },
   "outputs": [
    {
     "name": "stdout",
     "output_type": "stream",
     "text": [
      "[-3.0919937] [-3.0919937   9.56042506]\n"
     ]
    }
   ],
   "source": [
    "from sklearn.preprocessing import PolynomialFeatures\n",
    "poly_feature = PolynomialFeatures(degree=2,include_bias=False)\n",
    "X_poly=poly_feature.fit_transform(X)\n",
    "print(X[0],X_poly[0])"
   ]
  },
  {
   "cell_type": "code",
   "execution_count": 161,
   "metadata": {
    "collapsed": false
   },
   "outputs": [
    {
     "data": {
      "text/plain": [
       "(array([[ 0.97593219,  0.50381815]]), array([ 3.00824888]))"
      ]
     },
     "execution_count": 161,
     "metadata": {},
     "output_type": "execute_result"
    }
   ],
   "source": [
    "lin_reg=LinearRegression()\n",
    "lin_reg.fit(X_poly,y)\n",
    "lin_reg.coef_,lin_reg.intercept_"
   ]
  },
  {
   "cell_type": "code",
   "execution_count": 162,
   "metadata": {
    "collapsed": false
   },
   "outputs": [
    {
     "data": {
      "image/png": "[encoded data removed]",
      "text/plain": [
       "<matplotlib.figure.Figure at 0x12a407c50>"
      ]
     },
     "metadata": {},
     "output_type": "display_data"
    }
   ],
   "source": [
    "X_new=np.linspace(-3,3,100).reshape(100,1)\n",
    "X_new_poly = poly_feature.transform(X_new)\n",
    "\n",
    "y_new=lin_reg.predict(X_new_poly)\n",
    "\n",
    "plt.plot(X,y,'r.')\n",
    "plt.plot(X_new,y_new,'b-')\n",
    "plt.axis([-3,3,0,10])\n",
    "plt.show()\n"
   ]
  },
  {
   "cell_type": "markdown",
   "metadata": {},
   "source": [
    "Note that when there are multiple features, Polynomial Regression is capable of finding relationships between features (which is something a plain Linear Regression model cannot do). This is made possible by the fact that PolynomialFeatures also adds all combinations of features up to the given degree. For example, if there were two features a and b, PolynomialFeatures with degree=3 would not only add the features a2, a3, b2, and b3, but also the combinations ab, a2b, and ab2."
   ]
  },
  {
   "cell_type": "code",
   "execution_count": null,
   "metadata": {
    "collapsed": true
   },
   "outputs": [],
   "source": []
  },
  {
   "cell_type": "code",
   "execution_count": null,
   "metadata": {
    "collapsed": true
   },
   "outputs": [],
   "source": []
  }
 ],
 "metadata": {
  "kernelspec": {
   "display_name": "Python 3",
   "language": "python",
   "name": "python3"
  },
  "language_info": {
   "codemirror_mode": {
    "name": "ipython",
    "version": 3
   },
   "file_extension": ".py",
   "mimetype": "text/x-python",
   "name": "python",
   "nbconvert_exporter": "python",
   "pygments_lexer": "ipython3",
   "version": "3.6.0"
  }
 },
 "nbformat": 4,
 "nbformat_minor": 2
}
